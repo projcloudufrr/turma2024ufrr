{
  "nbformat": 4,
  "nbformat_minor": 0,
  "metadata": {
    "colab": {
      "provenance": []
    },
    "kernelspec": {
      "name": "python3",
      "display_name": "Python 3"
    },
    "language_info": {
      "name": "python"
    }
  },
  "cells": [
    {
      "cell_type": "markdown",
      "source": [
        "# **Notebook de Análise de Dados de Saúde**\n",
        "**SEU NOME:** Felipe Rubens de Sousa Borges\n",
        "\n",
        "Fonte dos dados: https://www.kaggle.com/datasets/mirichoi0218/insurance"
      ],
      "metadata": {
        "id": "1_aSN_V60WLP"
      }
    },
    {
      "cell_type": "code",
      "execution_count": null,
      "metadata": {
        "id": "B6_bMWLiz97P"
      },
      "outputs": [],
      "source": [
        "import numpy as np\n",
        "import pandas as pd\n",
        "import os\n",
        "import matplotlib.pyplot as pl\n",
        "import seaborn as sns\n",
        "import warnings\n",
        "\n",
        "warnings.filterwarnings('ignore')\n"
      ]
    },
    {
      "cell_type": "markdown",
      "source": [
        "# **Atividade Prática:**\n",
        "\n",
        "\n",
        "1.   Você deve encontrar as celulas de texto que solicitem a explicação da célula ou conjunto de células logo abaixo delas e fazer uma explicação sucinta daquele trecho de código. Você pode fazer um comentário nas celulas principais.\n",
        "2.   Você deve corrigir os erros nas células que apresentaram erros. Utilize o \"Explain Error\"\n",
        "\n",
        "\n",
        "\n"
      ],
      "metadata": {
        "id": "QX3b-kzQ49Sv"
      }
    },
    {
      "cell_type": "markdown",
      "source": [
        "🟩🟩🟩 ❗**O que as células seguintes fazem:**❓🟩🟩🟩\n",
        "\n",
        "> Importam o csv e verificam se existem dados nulos em alguma coluna\n",
        "\n"
      ],
      "metadata": {
        "id": "auTon_Xm7N3L"
      }
    },
    {
      "cell_type": "code",
      "source": [
        "# Importa csv\n",
        "data = pd.read_csv(\"insurance.csv\")\n",
        "data.head()"
      ],
      "metadata": {
        "id": "ZRdBfR3f0V-P"
      },
      "execution_count": null,
      "outputs": []
    },
    {
      "cell_type": "code",
      "source": [
        "# verifica se tem dados vazios (null)\n",
        "data.isnull().sum()"
      ],
      "metadata": {
        "id": "q_1_UcmS73rA"
      },
      "execution_count": null,
      "outputs": []
    },
    {
      "cell_type": "markdown",
      "source": [
        "🟩🟩🟩 ❗**O que as células seguintes fazem:**❓🟩🟩🟩\n",
        "\n",
        "> A primeira célula converte dados categóricos em números inteiros e a segunda lê os dados.\n",
        "\n"
      ],
      "metadata": {
        "id": "weYQVCEM8aN4"
      }
    },
    {
      "cell_type": "code",
      "source": [
        "from sklearn.preprocessing import LabelEncoder\n",
        "\n",
        "#sex\n",
        "le = LabelEncoder()\n",
        "le.fit(data.sex.drop_duplicates())\n",
        "data.sex = le.transform(data.sex)\n",
        "\n",
        "#smoker or not\n",
        "le.fit(data.smoker.drop_duplicates())\n",
        "data.smoker = le.transform(data.smoker)\n",
        "\n",
        "#Region\n",
        "le.fit(data.region.drop_duplicates())\n",
        "data.region = le.transform(data.region)\n",
        "\n"
      ],
      "metadata": {
        "id": "C0udjVWT8UzH"
      },
      "execution_count": null,
      "outputs": []
    },
    {
      "cell_type": "code",
      "source": [
        "data.head()"
      ],
      "metadata": {
        "id": "KwY1n6Xr-pnC"
      },
      "execution_count": null,
      "outputs": []
    },
    {
      "cell_type": "markdown",
      "source": [
        "🟩🟩🟩 ❗**O que as células seguintes fazem:**❓🟩🟩🟩\n",
        "\n",
        "> A primeira célula ordena a correlação entre todos os dados das colunas em relação a 'charges' e a segunda cria um mapa de calor para essa correlação.\n",
        "\n"
      ],
      "metadata": {
        "id": "BN22SrVp8rMZ"
      }
    },
    {
      "cell_type": "code",
      "source": [
        "data.corr()['charges'].sort_values()"
      ],
      "metadata": {
        "id": "TS4c32qW_5a3"
      },
      "execution_count": null,
      "outputs": []
    },
    {
      "cell_type": "code",
      "source": [
        "corr = data.corr()\n",
        "mask = np.zeros_like(corr, dtype=bool)\n",
        "f, ax = pl.subplots(figsize=(10, 8))\n",
        "sns.heatmap(corr, mask=mask, cmap=sns.diverging_palette(240,10,as_cmap=True),\n",
        "            square=True, ax=ax)"
      ],
      "metadata": {
        "id": "2eMPW5PcBgvE"
      },
      "execution_count": null,
      "outputs": []
    },
    {
      "cell_type": "markdown",
      "source": [
        "🟩🟩🟩 ❗**O que as células seguintes fazem:**❓🟩🟩🟩\n",
        "\n",
        "> A primeira cria um histograma com os dados contidos em 'charges'. O segundo cria dois gráficos usando a distribuição de 'charges' para 'smokers' e 'non-smokers'. E o terciro cria um gráfico que mostra a distribuição de fumantes e não fumantes, divididos por sexo.\n",
        "\n"
      ],
      "metadata": {
        "id": "iC4-p1lj8t53"
      }
    },
    {
      "cell_type": "code",
      "source": [
        "from bokeh.io import output_notebook, show\n",
        "from bokeh.plotting import figure\n",
        "output_notebook()\n",
        "import scipy.special\n",
        "from bokeh.layouts import gridplot\n",
        "from bokeh.plotting import figure, show, output_file\n",
        "p = figure(title=\"Distribution of charges\",tools=\"save\",\n",
        "            background_fill_color=\"#E8DDCB\")\n",
        "hist, edges = np.histogram(data.charges)\n",
        "p.quad(top=hist, bottom=0, left=edges[:-1], right=edges[1:],\n",
        "        fill_color=\"#036564\", line_color=\"#033649\")\n",
        "p.xaxis.axis_label = 'x'\n",
        "p.yaxis.axis_label = 'Pr(x)'\n",
        "\n",
        "show(gridplot([p],ncols = 2, width=400, height=400, toolbar_location=None))"
      ],
      "metadata": {
        "id": "N0r8ciKJ2Xjs"
      },
      "execution_count": null,
      "outputs": []
    },
    {
      "cell_type": "code",
      "source": [
        "f= pl.figure(figsize=(12,5))\n",
        "\n",
        "ax=f.add_subplot(121)\n",
        "sns.distplot(data[(data.smoker == 1)][\"charges\"],color='c',ax=ax)\n",
        "ax.set_title('Distribution of charges for smokers')\n",
        "\n",
        "ax=f.add_subplot(122)\n",
        "sns.distplot(data[(data.smoker == 0)]['charges'],color='b',ax=ax)\n",
        "ax.set_title('Distribution of charges for non-smokers')"
      ],
      "metadata": {
        "id": "WAbAqHoe5917"
      },
      "execution_count": null,
      "outputs": []
    },
    {
      "cell_type": "code",
      "source": [
        "sns.catplot(x=\"smoker\", kind=\"count\",hue = 'sex', palette=\"pink\", data=data)"
      ],
      "metadata": {
        "id": "CJz4JhLb6DOk"
      },
      "execution_count": null,
      "outputs": []
    },
    {
      "cell_type": "markdown",
      "source": [
        "🟩🟩🟩 ❗**O que as células seguintes fazem:**❓🟩🟩🟩\n",
        "\n",
        "> A primeira célula, o gráfico  compara os custos, os custos médicos para mulheres fumantes tendem a ser mais altos e mais variáveis em comparação com as não fumantes.\n",
        "\n",
        "> A segunda célula,o gráfico compara os custos médicos para fumantes tendem a ser mais altos em comparação com os não fumantes.\n",
        "\n",
        "> A terceira célula faz uma distriuiçao por idade e mostra um pico de custos nos 20 anos.\n",
        "\n",
        ">A quarta célula mostra o número de fumantes e não fumantes com 18 anos, diferenciados por sexo, e tem mais mulheres do que homens.\n",
        "\n",
        "> A quinta celula mostra um gráfico cujo os custos médicos variam entre fumantes e não fumantes de 18 anos. Os fumantes tendem a ter uma maior dispersão nos custos associados aos cuidados médicos.\n",
        "\n"
      ],
      "metadata": {
        "id": "hi4SJbPy9QvI"
      }
    },
    {
      "cell_type": "code",
      "source": [
        "pl.figure(figsize=(12,5))\n",
        "pl.title(\"Box plot for charges of women\")\n",
        "sns.boxplot(y=\"smoker\", x=\"charges\", data =  data[(data.sex == 1)] , orient=\"h\", palette = 'magma')"
      ],
      "metadata": {
        "id": "6vHQrkRL9AsU"
      },
      "execution_count": null,
      "outputs": []
    },
    {
      "cell_type": "code",
      "source": [
        "pl.figure(figsize=(12,5))\n",
        "pl.title(\"Box plot for charges of men\")\n",
        "sns.boxplot(y=\"smoker\", x=\"charges\", data =  data[(data.sex == 0)] , orient=\"h\", palette = 'rainbow')"
      ],
      "metadata": {
        "id": "Pc-sVDx_9Bja"
      },
      "execution_count": null,
      "outputs": []
    },
    {
      "cell_type": "code",
      "source": [
        "pl.figure(figsize=(12,5))\n",
        "pl.title(\"Distribution of age\")\n",
        "ax = sns.distplot(data[\"age\"], color = 'g')"
      ],
      "metadata": {
        "id": "flm_C3b79GTq"
      },
      "execution_count": null,
      "outputs": []
    },
    {
      "cell_type": "code",
      "source": [
        "sns.catplot(x=\"smoker\", kind=\"count\",hue = 'sex', palette=\"rainbow\", data=data[(data.age == 18)])\n",
        "pl.title(\"The number of smokers and non-smokers (18 years old)\")"
      ],
      "metadata": {
        "id": "q_CHYsOk9JZ4"
      },
      "execution_count": null,
      "outputs": []
    },
    {
      "cell_type": "code",
      "source": [
        "pl.figure(figsize=(12,5))\n",
        "pl.title(\"Box plot for charges 18 years old smokers\")\n",
        "sns.boxplot(y=\"smoker\", x=\"charges\", data = data[(data.age == 18)] , orient=\"h\", palette = 'pink')"
      ],
      "metadata": {
        "id": "D9JOVNaF9K5O"
      },
      "execution_count": null,
      "outputs": []
    },
    {
      "cell_type": "markdown",
      "source": [
        "🟩🟩🟩 ❗**O que as células seguintes fazem:**❓🟩🟩🟩\n",
        "\n",
        "> A primeira célula mostra o gráfico que representa a distribuição de custos médicos e idade para não fumantes. A maior concentração de pontos de dados parece estar no centro do gráfico, sugerindo que a maioria dos custos para não fumantes está dentro dessa faixa.\n",
        "\n",
        "> A segunda célula mostra o gráfico que representa a distribuição de custos e idades para fumantes. os dados mostram que fumantes mais velhos tendem a ter custos mais elevados relacionados à saúde\n",
        "\n",
        "> A terceira célula o grafico mostra uma relaçao entre os dados da idade e dos fumantes em questao dos custos medicos\n",
        "\n",
        "> A quarta célula o gráfico mostra que fumar está associado a custos médicos mais elevados e que a idade também desempenha um papel importante nas despesas médicas.\n",
        "\n"
      ],
      "metadata": {
        "id": "8ZRrFEvF9VJ8"
      }
    },
    {
      "cell_type": "code",
      "source": [
        "g = sns.jointplot(x=\"age\", y=\"charges\", data = data[(data.smoker == 0)],kind=\"kde\", color=\"m\")\n",
        "g.plot_joint(pl.scatter, c=\"w\", s=30, linewidth=1, marker=\"+\")\n",
        "g.ax_joint.collections[0].set_alpha(0)\n",
        "g.set_axis_labels(\"$X$\", \"$Y$\")\n",
        "ax.set_title('Distribution of charges and age for non-smokers')"
      ],
      "metadata": {
        "id": "Xewiu9gx9WJC"
      },
      "execution_count": null,
      "outputs": []
    },
    {
      "cell_type": "code",
      "source": [
        "g = sns.jointplot(x=\"age\", y=\"charges\", data = data[(data.smoker == 1)],kind=\"kde\", color=\"c\")\n",
        "g.plot_joint(pl.scatter, c=\"w\", s=30, linewidth=1, marker=\"+\")\n",
        "g.ax_joint.collections[0].set_alpha(0)\n",
        "g.set_axis_labels(\"$X$\", \"$Y$\")\n",
        "ax.set_title('Distribution of charges and age for smokers')"
      ],
      "metadata": {
        "id": "prEDPiXg9ZXG"
      },
      "execution_count": null,
      "outputs": []
    },
    {
      "cell_type": "code",
      "source": [
        "#non - smokers\n",
        "p = figure(width=500, height=450)\n",
        "p.circle(x=data[(data.smoker == 0)].age,y=data[(data.smoker == 0)].charges, size=7, line_color=\"navy\", fill_color=\"pink\", fill_alpha=0.9)\n",
        "\n",
        "show(p)"
      ],
      "metadata": {
        "id": "dyDAZs-59dHt"
      },
      "execution_count": null,
      "outputs": []
    },
    {
      "cell_type": "code",
      "source": [
        "#smokers\n",
        "p = figure(width=500, height=450)\n",
        "p.circle(x=data[(data.smoker == 1)].age,y=data[(data.smoker == 1)].charges, size=7, line_color=\"navy\", fill_color=\"red\", fill_alpha=0.9)\n",
        "show(p)"
      ],
      "metadata": {
        "id": "IRQe9-ay9ekj"
      },
      "execution_count": null,
      "outputs": []
    },
    {
      "cell_type": "code",
      "source": [
        "sns.lmplot(x=\"age\", y=\"charges\", hue=\"smoker\", data=data, palette = 'inferno_r', height = 7)\n",
        "ax.set_title('Smokers and non-smokers')"
      ],
      "metadata": {
        "id": "QzH2CImM9gvo"
      },
      "execution_count": null,
      "outputs": []
    },
    {
      "cell_type": "markdown",
      "source": [
        "🟩🟩🟩 ❗**O que as células seguintes fazem:**❓🟩🟩🟩\n",
        "\n",
        "> A primeira célula mostra um gráfico cujo a maior densidade dos idividos tem um IMC de 30 que é na faixa da obesidade.\n",
        "\n",
        "> A segunda célula mostra um gráfico cujo as despesas associadas ao tratamento de condições relacionadas ao IMC elevado, muitos pacientes enfrentam custos relativamente baixos.\n",
        "\n",
        "> A terceira célula mostra um gráfico cujo os pacientes com o IMC abaixo de 30, tem menos despesas.\n",
        "\n",
        "> A quarta célula mostra um gráfico cujo os pacientes com IMC mais alto tendem a ter despesas médicas mais elevadas.\n",
        "\n",
        "> A quinta célula mostra um gráfico cujo quem tem o IMC mais alto e é fumante tem despesas medicas maiores.\n",
        "\n",
        "> A sexta célula mostra um gráfico cujo a maioria das observações na amostra de dados pertence a indivíduos sem filhos, e a contagem diminui à medida que o número de filhos aumenta.\n",
        "\n",
        "> A sétima célula mostra um gráfico que visualiza a distribuição e prevalência dos hábitos de fumar entre os pais. É interessante observar como os não fumantes superam os fumantes em ambos os sexos."
      ],
      "metadata": {
        "id": "jQBenQle9oTh"
      }
    },
    {
      "cell_type": "code",
      "source": [
        "pl.figure(figsize=(12,5))\n",
        "pl.title(\"Distribution of bmi\")\n",
        "ax = sns.distplot(data[\"bmi\"], color = 'm')"
      ],
      "metadata": {
        "id": "lh4FQBm79sgU"
      },
      "execution_count": null,
      "outputs": []
    },
    {
      "cell_type": "code",
      "source": [
        "pl.figure(figsize=(12,5))\n",
        "pl.title(\"Distribution of charges for patients with BMI greater than 30\")\n",
        "ax = sns.distplot(data[(data.bmi >= 30)]['charges'], color = 'm')"
      ],
      "metadata": {
        "id": "POJVZ48z9tzA"
      },
      "execution_count": null,
      "outputs": []
    },
    {
      "cell_type": "code",
      "source": [
        "pl.figure(figsize=(12,5))\n",
        "pl.title(\"Distribution of charges for patients with BMI less than 30\")\n",
        "ax = sns.distplot(data[(data.bmi < 30)]['charges'], color = 'b')"
      ],
      "metadata": {
        "id": "RwF-EORF9vuK"
      },
      "execution_count": null,
      "outputs": []
    },
    {
      "cell_type": "code",
      "source": [
        "g = sns.jointplot(x=\"bmi\", y=\"charges\", data = data,kind=\"kde\", color=\"r\")\n",
        "g.plot_joint(pl.scatter, c=\"w\", s=30, linewidth=1, marker=\"+\")\n",
        "g.ax_joint.collections[0].set_alpha(0)\n",
        "g.set_axis_labels(\"$X$\", \"$Y$\")\n",
        "ax.set_title('Distribution of bmi and charges')"
      ],
      "metadata": {
        "id": "1UxjfP519xSz"
      },
      "execution_count": null,
      "outputs": []
    },
    {
      "cell_type": "code",
      "source": [
        "pl.figure(figsize=(10,6))\n",
        "ax = sns.scatterplot(x='bmi',y='charges',data=data,palette='magma',hue='smoker')\n",
        "ax.set_title('Scatter plot of charges and bmi')\n",
        "\n",
        "sns.lmplot(x=\"bmi\", y=\"charges\", hue=\"smoker\", data=data, palette = 'magma', height = 8)"
      ],
      "metadata": {
        "id": "uQhYDn7x9yv4"
      },
      "execution_count": null,
      "outputs": []
    },
    {
      "cell_type": "code",
      "source": [
        "sns.catplot(x=\"children\", kind=\"count\", palette=\"ch:.25\", data=data, height = 6)"
      ],
      "metadata": {
        "id": "GzKFY4lj90zb"
      },
      "execution_count": null,
      "outputs": []
    },
    {
      "cell_type": "code",
      "source": [
        "sns.catplot(x=\"smoker\", kind=\"count\", palette=\"rainbow\",hue = \"sex\",\n",
        "            data=data[(data.children > 0)], height = 6)\n",
        "ax.set_title('Smokers and non-smokers who have childrens')"
      ],
      "metadata": {
        "id": "QEDo8_d994_q"
      },
      "execution_count": null,
      "outputs": []
    },
    {
      "cell_type": "markdown",
      "source": [
        "# ⏺⏺⏺⏺⏺ **INÍCIO MACHINE LEARNING** ⏺⏺⏺⏺⏺"
      ],
      "metadata": {
        "id": "ChbTh4K69-HQ"
      }
    },
    {
      "cell_type": "markdown",
      "source": [
        "🟩🟩🟩 ❗**O que as células seguintes fazem:**❓🟩🟩🟩\n",
        "\n",
        "> As células realizam o treinamento e avaliação de um modelo de regressão linear, calcula e imprime o coeficiente de determinação (R²) do modelo com base nos dados de teste usando o método 'score'.\n",
        "\n"
      ],
      "metadata": {
        "id": "0ld4WvPw9-Tq"
      }
    },
    {
      "cell_type": "code",
      "source": [
        "from sklearn.linear_model import LinearRegression\n",
        "from sklearn.model_selection import train_test_split\n",
        "from sklearn.preprocessing import PolynomialFeatures\n",
        "from sklearn.metrics import r2_score,mean_squared_error\n",
        "from sklearn.ensemble import RandomForestRegressor"
      ],
      "metadata": {
        "id": "CSy2gPMT-SZ6"
      },
      "execution_count": null,
      "outputs": []
    },
    {
      "cell_type": "code",
      "source": [
        "x = data.drop(['charges'], axis = 1)\n",
        "y = data.charges\n",
        "\n",
        "x_train,x_test,y_train,y_test = train_test_split(x,y, random_state = 0)\n",
        "lr = LinearRegression().fit(x_train,y_train)\n",
        "\n",
        "y_train_pred = lr.predict(x_train)\n",
        "y_test_pred = lr.predict(x_test)\n",
        "\n",
        "print(lr.score(x_test,y_test))"
      ],
      "metadata": {
        "id": "pUAchWtD-S62"
      },
      "execution_count": null,
      "outputs": []
    },
    {
      "cell_type": "markdown",
      "source": [
        "🟩🟩🟩 ❗**O que as células seguintes fazem:**❓🟩🟩🟩\n",
        "\n",
        "> Na primeira célula ocódigo cria e treina um modelo de regressão linear que considera não apenas as features originais, mas também as combinações polinomiais de grau 2 dessas features. Isso pode ajudar o modelo a capturar relações não lineares entre as features e a variável dependente.\n",
        "\n",
        "> Nas outras células o código faz uma estimativa prever os custos usando os dois modelos diferentes e avalia seu desempenho. O gráfico mostra o quão bem as previsões do modelo de Floresta Aleatória se alinham com os pontos de dados reais.\n",
        "\n"
      ],
      "metadata": {
        "id": "8uDQOy56-XqG"
      }
    },
    {
      "cell_type": "code",
      "source": [
        "X = data.drop(['charges','region'], axis = 1)\n",
        "Y = data.charges\n",
        "\n",
        "\n",
        "\n",
        "quad = PolynomialFeatures (degree = 2)\n",
        "x_quad = quad.fit_transform(X)\n",
        "\n",
        "X_train,X_test,Y_train,Y_test = train_test_split(x_quad,Y, random_state = 0)\n",
        "\n",
        "plr = LinearRegression().fit(X_train,Y_train)\n",
        "\n",
        "Y_train_pred = plr.predict(X_train)\n",
        "Y_test_pred = plr.predict(X_test)\n",
        "\n",
        "print(plr.score(X_test,Y_test))"
      ],
      "metadata": {
        "id": "I7p4gm-q-bDw",
        "colab": {
          "base_uri": "https://localhost:8080/"
        },
        "outputId": "f8bdb71e-fba6-4e15-f1ee-33ce8e3fbecd"
      },
      "execution_count": null,
      "outputs": [
        {
          "output_type": "stream",
          "name": "stdout",
          "text": [
            "0.8849197344147227\n"
          ]
        }
      ]
    },
    {
      "cell_type": "code",
      "source": [
        "forest = RandomForestRegressor(n_estimators = 100,\n",
        "                              criterion = 'squared_error',\n",
        "                              random_state = 1,\n",
        "                              n_jobs = -1)\n",
        "forest.fit(x_train,y_train)\n",
        "forest_train_pred = forest.predict(x_train)\n",
        "forest_test_pred = forest.predict(x_test)\n",
        "\n",
        "print('MSE train data: %.3f, MSE test data: %.3f' % (\n",
        "mean_squared_error(y_train,forest_train_pred),\n",
        "mean_squared_error(y_test,forest_test_pred)))\n",
        "print('R2 train data: %.3f, R2 test data: %.3f' % (\n",
        "r2_score(y_train,forest_train_pred),\n",
        "r2_score(y_test,forest_test_pred)))"
      ],
      "metadata": {
        "id": "94kSYuLf-dbm",
        "colab": {
          "base_uri": "https://localhost:8080/"
        },
        "outputId": "ab3dc57d-d250-4721-96af-c00527103a60"
      },
      "execution_count": null,
      "outputs": [
        {
          "output_type": "stream",
          "name": "stdout",
          "text": [
            "MSE train data: 3746684.434, MSE test data: 19965476.411\n",
            "R2 train data: 0.974, R2 test data: 0.873\n"
          ]
        }
      ]
    },
    {
      "cell_type": "code",
      "source": [
        "pl.figure(figsize=(10,6))\n",
        "\n",
        "pl.scatter(forest_train_pred,forest_train_pred - y_train,\n",
        "          c = 'black', marker = 'o', s = 35, alpha = 0.5,\n",
        "          label = 'Train data')\n",
        "pl.scatter(forest_test_pred,forest_test_pred - y_test,\n",
        "          c = 'c', marker = 'o', s = 35, alpha = 0.7,\n",
        "          label = 'Test data')\n",
        "pl.xlabel('Predicted values')\n",
        "pl.ylabel('Tailings')\n",
        "pl.legend(loc = 'upper left')\n",
        "pl.hlines(y = 0, xmin = 0, xmax = 60000, lw = 2, color = 'red')\n",
        "pl.show()"
      ],
      "metadata": {
        "id": "heDurXQb-e3Q"
      },
      "execution_count": null,
      "outputs": []
    }
  ]
}