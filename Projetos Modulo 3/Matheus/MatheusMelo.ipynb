{
  "nbformat": 4,
  "nbformat_minor": 0,
  "metadata": {
    "colab": {
      "private_outputs": true,
      "provenance": []
    },
    "kernelspec": {
      "name": "python3",
      "display_name": "Python 3"
    },
    "language_info": {
      "name": "python"
    }
  },
  "cells": [
    {
      "cell_type": "markdown",
      "source": [
        "## Instalação das bibliotecas nescessarias"
      ],
      "metadata": {
        "id": "ug_BC7ngziOE"
      }
    },
    {
      "cell_type": "code",
      "source": [
        "!pip install -U google-generativeai"
      ],
      "metadata": {
        "collapsed": true,
        "id": "9w8S3CoAzRqg"
      },
      "execution_count": null,
      "outputs": []
    },
    {
      "cell_type": "code",
      "source": [
        "!pip install gradio"
      ],
      "metadata": {
        "collapsed": true,
        "id": "0yAVwioPzO4K"
      },
      "execution_count": null,
      "outputs": []
    },
    {
      "cell_type": "markdown",
      "source": [
        "## Importando as bibliotecas necessarias\n"
      ],
      "metadata": {
        "id": "Ye0tbi97zrWq"
      }
    },
    {
      "cell_type": "code",
      "source": [
        "from google.colab import drive"
      ],
      "metadata": {
        "id": "s2dGuwkvznuo"
      },
      "execution_count": null,
      "outputs": []
    },
    {
      "cell_type": "code",
      "source": [
        "import pandas as pd\n",
        "from sklearn.metrics.pairwise import cosine_similarity\n",
        "import numpy as np\n",
        "import gradio as gr"
      ],
      "metadata": {
        "id": "rWtdrgUyz0lA"
      },
      "execution_count": null,
      "outputs": []
    },
    {
      "cell_type": "code",
      "source": [
        "import google.generativeai as genai\n",
        "from google.colab import userdata"
      ],
      "metadata": {
        "id": "Wbdd7DDp1hp1"
      },
      "execution_count": null,
      "outputs": []
    },
    {
      "cell_type": "markdown",
      "source": [
        "## Dando acesso do drive ao colab"
      ],
      "metadata": {
        "id": "WNrvtMmlz2cI"
      }
    },
    {
      "cell_type": "code",
      "execution_count": null,
      "metadata": {
        "id": "7Taw5MLjqr3k"
      },
      "outputs": [],
      "source": [
        "drive.mount('/content/drive')"
      ]
    },
    {
      "cell_type": "markdown",
      "source": [
        "##caminhos dos dados de sintomas e dos historicos"
      ],
      "metadata": {
        "id": "GxqyFU3J0BNW"
      }
    },
    {
      "cell_type": "code",
      "source": [
        "caminho_sintomas = \"/content/drive/MyDrive/testeCLoud/Sintomas.csv\"\n",
        "caminho_historico = \"/content/drive/MyDrive/testeCLoud/historico_medico_cloud.csv\""
      ],
      "metadata": {
        "id": "W8qSqhG_toAG"
      },
      "execution_count": null,
      "outputs": []
    },
    {
      "cell_type": "markdown",
      "source": [
        "##Criação dos dataframes de sintomas e de historico"
      ],
      "metadata": {
        "id": "3C83z2pzzZnM"
      }
    },
    {
      "cell_type": "code",
      "source": [
        "df_sintomas = pd.read_csv(caminho_sintomas)\n",
        "df_sintomas"
      ],
      "metadata": {
        "collapsed": true,
        "id": "S_IiMIe3uAUH"
      },
      "execution_count": null,
      "outputs": []
    },
    {
      "cell_type": "code",
      "source": [
        "df_historico = pd.read_csv(caminho_historico)\n",
        "df_historico\n"
      ],
      "metadata": {
        "collapsed": true,
        "id": "lsHSwftrujBk"
      },
      "execution_count": null,
      "outputs": []
    },
    {
      "cell_type": "code",
      "source": [
        "GOOGLE_API_KEY=userdata.get('GOOGLE_API_KEY')\n",
        "\n",
        "genai.configure(api_key=GOOGLE_API_KEY)"
      ],
      "metadata": {
        "id": "5ohikeri1bs4"
      },
      "execution_count": null,
      "outputs": []
    },
    {
      "cell_type": "code",
      "source": [
        "# Função para gerar embeddings\n",
        "def gerar_embeddings(texto):\n",
        "    result = genai.embed_content(\n",
        "        model=\"models/embedding-001\",\n",
        "        content=texto,\n",
        "        timeout=120,\n",
        "        task_type=\"retrieval_document\",\n",
        "        title=\"Embedding de uma sintoma\"),\n",
        "    return result['embedding']"
      ],
      "metadata": {
        "id": "a3P2eRGo16l_"
      },
      "execution_count": null,
      "outputs": []
    },
    {
      "cell_type": "code",
      "source": [
        "df_sintomas['Embeddings_Sintomas'] = df_sintomas['Sintoma'].apply(lambda x: gerar_embeddings(x))"
      ],
      "metadata": {
        "id": "HBYae5Vd2FKF"
      },
      "execution_count": null,
      "outputs": []
    },
    {
      "cell_type": "code",
      "source": [
        "df_sintomas"
      ],
      "metadata": {
        "id": "3uDeJLTS2Uh2"
      },
      "execution_count": null,
      "outputs": []
    },
    {
      "cell_type": "code",
      "source": [
        "def identificar_sintomas(sintomas_usuario,nome_usuario):\n",
        "  # Gerar embeddings dos sintomas do usuário\n",
        "    embeddings_usuario = gerar_embeddings(sintomas_usuario)\n",
        "\n",
        "    # Calcular similaridade (cosseno) entre os embeddings dos sintomas do usuário e os embeddings dos sintomas no DataFrame\n",
        "    similaridades_doencas = cosine_similarity([embeddings_usuario], df_sintomas['Embeddings_Doencas'])[0]\n",
        "    indice_doenca_mais_provavel = np.argmax(similaridades_doencas)\n",
        "\n",
        "    doenca_mais_provavel = df_sintomas.iloc[indice_doenca_mais_provavel]\n",
        "\n",
        "    resultado = {\n",
        "        \"Nome da Doença\": doenca_mais_provavel[\"Nome da Doença\"],\n",
        "        \"Descrição do Diagnóstico Médico Possível\": doenca_mais_provavel[\"Descrição\"],\n",
        "        \"Tratamentos\": doenca_mais_provavel[\"Tratamentos\"],\n",
        "        \"Médicos que podem tratar\": doenca_mais_provavel[\"Médicos\"],\n",
        "        \"Doenças Relacionadas ao Histórico\": []\n",
        "    }\n",
        "    # Verificar histórico (se existir)\n",
        "    if nome_usuario in df_historico['nome'].values:\n",
        "        historico_usuario = df_historico[df_historico['nome'] == nome_usuario]['Historico_Medico'].iloc[0]\n",
        "        embeddings_historico = gerar_embeddings(historico_usuario)\n",
        "        similaridades_historico = cosine_similarity([embeddings_usuario], [embeddings_historico])[0][0]\n",
        "\n",
        "        if similaridades_historico > 0.5:  # Defina um limiar de similaridade\n",
        "            doencas_historico = df_historico[df_historico['Nome'] == nome_usuario]['Nome da Doença'].tolist()\n",
        "            resultado[\"Doenças Relacionadas ao Histórico\"] = doencas_historico\n",
        "\n",
        "    return resultado\n",
        "\n",
        "    return {\n",
        "        \"Nome da Doença\": sintoma_mais_semelhante,\n",
        "        \"Descrição do Diagnóstico Médico Possível\": descricao_mais_semelhante\n",
        "    }\n"
      ],
      "metadata": {
        "id": "FmpDjWg2dYA2"
      },
      "execution_count": null,
      "outputs": []
    },
    {
      "cell_type": "code",
      "source": [
        "def gradio_diagnosticar(sintomas, nome_usuario=\"Usuário não informado\"):\n",
        "    resultado = identificar_sintomas(sintomas)\n",
        "\n",
        "    resposta = f\"\"\"\n",
        "    **Nome da Doença:** {resultado['Nome da Doença']}\n",
        "    **Descrição:** {resultado['Descrição do Diagnóstico Médico Possível']}\n",
        "    **Tratamentos:** {resultado['Tratamentos']}\n",
        "    **Médicos que podem tratar:** {resultado['Médicos que podem tratar']}\n",
        "    \"\"\"\n",
        "\n",
        "    if resultado[\"Doenças Relacionadas ao Histórico\"]:\n",
        "        resposta += f\"\\n**Doenças Relacionadas ao Histórico:** {', '.join(resultado['Doenças Relacionadas ao Histórico'])}\"\n",
        "\n",
        "    return resposta"
      ],
      "metadata": {
        "id": "iyCXwg-3ECdh"
      },
      "execution_count": null,
      "outputs": []
    },
    {
      "cell_type": "code",
      "source": [
        "sintomas_teste = \"Perda de memória, confusão, alterações de humor\""
      ],
      "metadata": {
        "id": "-j5bchUKj-Tn"
      },
      "execution_count": null,
      "outputs": []
    },
    {
      "cell_type": "code",
      "source": [
        "identificar_sintomas(sintomas_teste,\"kevin\")"
      ],
      "metadata": {
        "id": "XdJXEs8VkDZW"
      },
      "execution_count": null,
      "outputs": []
    },
    {
      "cell_type": "code",
      "source": [
        "demo = gr.Interface(\n",
        "    fn=gradio_diagnosticar,\n",
        "    inputs=[\n",
        "        gr.Textbox(label=\"Sintomas\", placeholder=\"Descreva seus sintomas aqui\"),\n",
        "        gr.Textbox(label=\"Nome do Paciente\", placeholder=\"Digite seu nome\")\n",
        "    ],\n",
        "    outputs=gr.Textbox(label=\"Diagnóstico\"),\n",
        "    title=\"Sistema de Diagnóstico Médico\",\n",
        "    description=\"Digite seus sintomas e nome para receber um possível diagnóstico.\"\n",
        ")\n",
        "\n",
        "demo.launch()"
      ],
      "metadata": {
        "id": "4MoJnfkKjmlm"
      },
      "execution_count": null,
      "outputs": []
    }
  ]
}